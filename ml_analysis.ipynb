# Machine Learning Analysis for Climate and Agricultural Yield

This notebook contains the implementation of regression models to analyze the impact of climate variables on agricultural productivity for selected countries.

# Assume df is your DataFrame containing columns: 'country', 'year', 'temperature', 'precipitation', 'dry_days', 'yield'

# Filter for countries of interest
countries = ['Germany', 'India', 'Nigeria', 'United States of America', 'Brazil', 'Australia']
df = df[df['country'].isin(countries)]

# Define features and target variable
X = df[['temperature', 'precipitation', 'dry_days']]
y = df['yield']

# Split dataset into training and testing sets
from sklearn.model_selection import train_test_split
X_train, X_test, y_train, y_test = train_test_split(
    X, y, test_size=0.3, random_state=42
)

# Create and train linear regression model
from sklearn.linear_model import LinearRegression
lr = LinearRegression()
lr.fit(X_train, y_train)

# Predict on test data
y_pred = lr.predict(X_test)

# Evaluate model performance
from sklearn.metrics import mean_squared_error, r2_score
mse = mean_squared_error(y_test, y_pred)
r2 = r2_score(y_test, y_pred)

print(f"MSE: {mse:.3f}")
print(f"R2 Score: {r2:.3f}")

# Visualize actual vs predicted values
import matplotlib.pyplot as plt

plt.figure(figsize=(8,6))
plt.scatter(y_test, y_pred, alpha=0.6)
plt.xlabel('Actual Yield')
plt.ylabel('Predicted Yield')
plt.title('Actual vs Predicted Yield')
plt.plot([y.min(), y.max()], [y.min(), y.max()], 'r--')
plt.show()
